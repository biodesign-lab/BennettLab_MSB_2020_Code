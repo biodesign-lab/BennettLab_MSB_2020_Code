{
 "cells": [
  {
   "cell_type": "markdown",
   "metadata": {},
   "source": [
    "### Figure S12\n",
    "\n",
    "This code creates Figure S12 in the supplement."
   ]
  },
  {
   "cell_type": "code",
   "execution_count": 1,
   "metadata": {},
   "outputs": [],
   "source": [
    "import numpy as np\n",
    "import seaborn as sns\n",
    "import matplotlib\n",
    "matplotlib.rcParams['pdf.fonttype'] = 42\n",
    "matplotlib.rcParams['ps.fonttype'] = 42\n",
    "import matplotlib.pyplot as plt\n",
    "import scipy.io as sio\n",
    "import pandas as pd"
   ]
  },
  {
   "cell_type": "code",
   "execution_count": 2,
   "metadata": {
    "scrolled": true
   },
   "outputs": [
    {
     "data": {
      "image/png": "[encoded data removed]",
      "text/plain": [
       "<Figure size 432x288 with 1 Axes>"
      ]
     },
     "metadata": {},
     "output_type": "display_data"
    }
   ],
   "source": [
    "# Load the data from matlab .mat file\n",
    "cfu_data = sio.loadmat('cfu_od.mat')\n",
    "data = cfu_data['cfus_od']  #5x3 matrix\n",
    "\n",
    "#convert to DataFrame\n",
    "pdData=pd.DataFrame(data, columns = ['X', 'Y', 'Z'])\n",
    "#print(pdData)\n",
    "\n",
    "red_colors = sns.color_palette(\"Reds_d\",9)\n",
    "blue_colors = sns.color_palette(\"Blues_d\",9)\n",
    "orange_colors = sns.color_palette(\"YlOrBr_d\",9)\n",
    "strains = ['X', 'Y', 'Z']\n",
    "colors = [red_colors[5], blue_colors[5], orange_colors[5]]\n",
    "\n",
    "\n",
    "sns.set()\n",
    "sns_plot = sns.barplot(data=pdData, order=['X', 'Y', 'Z'], palette=colors[0:3], ci='sd', capsize=.05)\n",
    "\n",
    "#Export figure\n",
    "sns_plot.figure.savefig('FigS12_CFU_OD.pdf')"
   ]
  }
 ],
 "metadata": {
  "kernelspec": {
   "display_name": "Python 3",
   "language": "python",
   "name": "python3"
  },
  "language_info": {
   "codemirror_mode": {
    "name": "ipython",
    "version": 3
   },
   "file_extension": ".py",
   "mimetype": "text/x-python",
   "name": "python",
   "nbconvert_exporter": "python",
   "pygments_lexer": "ipython3",
   "version": "3.7.6"
  }
 },
 "nbformat": 4,
 "nbformat_minor": 2
}
