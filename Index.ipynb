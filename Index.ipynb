{
 "cells": [
  {
   "cell_type": "markdown",
   "metadata": {},
   "source": [
    "\n",
    "\n",
    "\n",
    "##### <font color=Green><u>Please read __readme.txt__ for information about software required to run the codes given below.</u></font>\n",
    "\n",
    "\n",
    "### Code for Bayesian parameter inference using Hamiltonian Monte Carlo with Stan\n",
    "\n",
    "\n",
    "[Bayesian parameter inference using HMC (Stan)](Model_Fitting_HMC.ipynb)\n",
    "\n",
    "### Code for figures in the main text\n",
    "\n",
    "\n",
    "[Figure 2](Fig2.ipynb)\n",
    "\n",
    "[Figure 3](Fig3.ipynb)\n",
    "\n",
    "[Figure 4](Fig4.ipynb)\n",
    "\n",
    "\n",
    "### Code for supplementary figures\n",
    "\n",
    "[Figure S2 (Other network structures)](FigS2_otherNetworks.ipynb)\n",
    "\n",
    "[Figure S3 (Days 2 and 3 of the experiment with fixed fraction of strain Z)](FigS3_fixZ_Days2and3.ipynb)\n",
    "\n",
    "[Figure S5 (measured vs target fractions)](FigS5_target_vs_measured_fractions.ipynb)\n",
    "\n",
    "[Figure S6 (left half) (Day 2 of the experiment with fixed fraction of strain X)](FigS6_fixX_d2.ipynb)\n",
    "\n",
    "[Figure S6 (right half) (Day 3 of the experiment with fixed fraction of strain X)](FigS6_fixX_d3.ipynb)\n",
    "\n",
    "[Figure S7 (Measured fractions at the beginning and end of the experiments (times 0 and 480 minutes)](FigS7_measured_fractions_time0_vs_time480.ipynb)\n",
    "\n",
    "[Figure S8 (Model prediction based on data from 1 and 3 experiments)](FigS8_ModelPredictionBasedOn1and3expers.ipynb)\n",
    "\n",
    "[Figure S9 (Model fitting results)](FigS9_ModelFitting.ipynb)\n",
    "\n",
    "[Figure S10 (Posterior distribution over parameters of the model)](FigS10_Posterior.ipynb)\n",
    "\n",
    "[Figure S11 (Isocline exeriment target, adjusted, and measured fractions)](FigS11_isocline_measured_and_target_fractions.ipynb)\n",
    "\n",
    "[Figure S12 (CFU data)](FigS12_CFU_OD.ipynb)\n",
    "\n"
   ]
  }
 ],
 "metadata": {
  "kernelspec": {
   "display_name": "Python 3",
   "language": "python",
   "name": "python3"
  },
  "language_info": {
   "codemirror_mode": {
    "name": "ipython",
    "version": 3
   },
   "file_extension": ".py",
   "mimetype": "text/x-python",
   "name": "python",
   "nbconvert_exporter": "python",
   "pygments_lexer": "ipython3",
   "version": "3.7.6"
  }
 },
 "nbformat": 4,
 "nbformat_minor": 2
}
